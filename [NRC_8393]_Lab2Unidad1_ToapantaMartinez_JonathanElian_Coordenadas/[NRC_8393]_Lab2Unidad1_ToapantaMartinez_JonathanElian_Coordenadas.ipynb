{
  "nbformat": 4,
  "nbformat_minor": 0,
  "metadata": {
    "colab": {
      "provenance": []
    },
    "kernelspec": {
      "name": "python3",
      "display_name": "Python 3"
    },
    "language_info": {
      "name": "python"
    }
  },
  "cells": [
    {
      "cell_type": "code",
      "execution_count": 1,
      "metadata": {
        "colab": {
          "base_uri": "https://localhost:8080/"
        },
        "id": "fuWDBCmzF0Vd",
        "outputId": "3891ebce-623c-4042-ee57-3e7da9f1ab43"
      },
      "outputs": [
        {
          "output_type": "stream",
          "name": "stdout",
          "text": [
            "Looking in indexes: https://pypi.org/simple, https://us-python.pkg.dev/colab-wheels/public/simple/\n",
            "Collecting faker\n",
            "  Downloading Faker-15.3.2-py3-none-any.whl (1.6 MB)\n",
            "\u001b[K     |████████████████████████████████| 1.6 MB 16.8 MB/s \n",
            "\u001b[?25hRequirement already satisfied: typing-extensions>=3.10.0.1 in /usr/local/lib/python3.7/dist-packages (from faker) (4.1.1)\n",
            "Requirement already satisfied: python-dateutil>=2.4 in /usr/local/lib/python3.7/dist-packages (from faker) (2.8.2)\n",
            "Requirement already satisfied: six>=1.5 in /usr/local/lib/python3.7/dist-packages (from python-dateutil>=2.4->faker) (1.15.0)\n",
            "Installing collected packages: faker\n",
            "Successfully installed faker-15.3.2\n"
          ]
        }
      ],
      "source": [
        "!pip install faker\n",
        "import pandas as pd\n",
        "import uuid\n",
        "import random\n",
        "from faker import Faker\n",
        "import datetime"
      ]
    },
    {
      "cell_type": "code",
      "source": [
        "num_users = 5000"
      ],
      "metadata": {
        "id": "FM7x9cFNGg1O"
      },
      "execution_count": 2,
      "outputs": []
    },
    {
      "cell_type": "code",
      "source": [
        "# A list of 3 features\n",
        "features = [\n",
        "    \"idCoor\",\n",
        "    \"Latitud\",\n",
        "    \"Longitud\"\n",
        "]# Creating a DF for these features\n",
        "df = pd.DataFrame(columns=features)"
      ],
      "metadata": {
        "id": "mv20A3w8Gmt1"
      },
      "execution_count": 3,
      "outputs": []
    },
    {
      "cell_type": "code",
      "source": [
        "df['idCoor'] = [uuid.uuid4().hex for i in range(num_users)]\n"
      ],
      "metadata": {
        "id": "NtgdvmHXHXv9"
      },
      "execution_count": 4,
      "outputs": []
    },
    {
      "cell_type": "code",
      "source": [
        "print(df['idCoor'].nunique()==num_users)\n"
      ],
      "metadata": {
        "colab": {
          "base_uri": "https://localhost:8080/"
        },
        "id": "amYHehhDHb_W",
        "outputId": "cf6fc2ae-e760-4b2c-e640-2f89ca7494ad"
      },
      "execution_count": 5,
      "outputs": [
        {
          "output_type": "stream",
          "name": "stdout",
          "text": [
            "True\n"
          ]
        }
      ]
    },
    {
      "cell_type": "markdown",
      "source": [
        "# Latitud"
      ],
      "metadata": {
        "id": "fsV4HMe7ebhL"
      }
    },
    {
      "cell_type": "code",
      "source": [
        "df['Latitud']= [random.uniform(-0,0.9)for i in range(num_users)]"
      ],
      "metadata": {
        "id": "KuGYfu4SHc-2"
      },
      "execution_count": 6,
      "outputs": []
    },
    {
      "cell_type": "markdown",
      "source": [
        "# Longitud"
      ],
      "metadata": {
        "id": "K1A3ntrtelcq"
      }
    },
    {
      "cell_type": "code",
      "source": [
        "df['Longitud']= [random.uniform(-79,-78)for i in range(num_users)]"
      ],
      "metadata": {
        "id": "1IqIhizUb-Nc"
      },
      "execution_count": 7,
      "outputs": []
    },
    {
      "cell_type": "markdown",
      "source": [
        "# Resultados"
      ],
      "metadata": {
        "id": "7kKzsLoff2oZ"
      }
    },
    {
      "cell_type": "code",
      "source": [
        "df.to_csv('dataset_Coord.csv')"
      ],
      "metadata": {
        "id": "B06CU1I-W-1-"
      },
      "execution_count": 8,
      "outputs": []
    },
    {
      "cell_type": "code",
      "source": [
        "pd.read_csv('dataset_Coord.csv', index_col=0)"
      ],
      "metadata": {
        "colab": {
          "base_uri": "https://localhost:8080/",
          "height": 424
        },
        "id": "mVSFA4gJXCEu",
        "outputId": "32041e41-47f8-49df-b424-2de78b4efdb3"
      },
      "execution_count": 9,
      "outputs": [
        {
          "output_type": "execute_result",
          "data": {
            "text/plain": [
              "                                idCoor   Latitud   Longitud\n",
              "0     3f7dc70bb3eb448bbf5b877c30501b87  0.595319 -78.970880\n",
              "1     da27d7bfd5684c98b4948086f2ecd1d9  0.109623 -78.783877\n",
              "2     6e165f36148749ef8ca39d77e1c7a06d  0.039082 -78.840028\n",
              "3     b83ad5ae5791459e9f8a95d7e6a52de1  0.405763 -78.691112\n",
              "4     15444174ed9f4e41aeaa46a9dd54b3e8  0.520304 -78.182449\n",
              "...                                ...       ...        ...\n",
              "4995  b35fa10eb34f451888cf9df44f719b13  0.235223 -78.776888\n",
              "4996  86940aa15c2544c783aecbdbb1eb8e4f  0.043769 -78.804615\n",
              "4997  65cd12caa1824388a1844ac1dee20c19  0.749478 -78.734176\n",
              "4998  0ba6add1a66d4da380e1adebacdd7250  0.332727 -78.872594\n",
              "4999  fcb3e3d8a8844846b2d9bf73630ea7f8  0.498297 -78.598319\n",
              "\n",
              "[5000 rows x 3 columns]"
            ],
            "text/html": [
              "\n",
              "  <div id=\"df-3d13226f-ab84-4565-b78a-d5f6910f8715\">\n",
              "    <div class=\"colab-df-container\">\n",
              "      <div>\n",
              "<style scoped>\n",
              "    .dataframe tbody tr th:only-of-type {\n",
              "        vertical-align: middle;\n",
              "    }\n",
              "\n",
              "    .dataframe tbody tr th {\n",
              "        vertical-align: top;\n",
              "    }\n",
              "\n",
              "    .dataframe thead th {\n",
              "        text-align: right;\n",
              "    }\n",
              "</style>\n",
              "<table border=\"1\" class=\"dataframe\">\n",
              "  <thead>\n",
              "    <tr style=\"text-align: right;\">\n",
              "      <th></th>\n",
              "      <th>idCoor</th>\n",
              "      <th>Latitud</th>\n",
              "      <th>Longitud</th>\n",
              "    </tr>\n",
              "  </thead>\n",
              "  <tbody>\n",
              "    <tr>\n",
              "      <th>0</th>\n",
              "      <td>3f7dc70bb3eb448bbf5b877c30501b87</td>\n",
              "      <td>0.595319</td>\n",
              "      <td>-78.970880</td>\n",
              "    </tr>\n",
              "    <tr>\n",
              "      <th>1</th>\n",
              "      <td>da27d7bfd5684c98b4948086f2ecd1d9</td>\n",
              "      <td>0.109623</td>\n",
              "      <td>-78.783877</td>\n",
              "    </tr>\n",
              "    <tr>\n",
              "      <th>2</th>\n",
              "      <td>6e165f36148749ef8ca39d77e1c7a06d</td>\n",
              "      <td>0.039082</td>\n",
              "      <td>-78.840028</td>\n",
              "    </tr>\n",
              "    <tr>\n",
              "      <th>3</th>\n",
              "      <td>b83ad5ae5791459e9f8a95d7e6a52de1</td>\n",
              "      <td>0.405763</td>\n",
              "      <td>-78.691112</td>\n",
              "    </tr>\n",
              "    <tr>\n",
              "      <th>4</th>\n",
              "      <td>15444174ed9f4e41aeaa46a9dd54b3e8</td>\n",
              "      <td>0.520304</td>\n",
              "      <td>-78.182449</td>\n",
              "    </tr>\n",
              "    <tr>\n",
              "      <th>...</th>\n",
              "      <td>...</td>\n",
              "      <td>...</td>\n",
              "      <td>...</td>\n",
              "    </tr>\n",
              "    <tr>\n",
              "      <th>4995</th>\n",
              "      <td>b35fa10eb34f451888cf9df44f719b13</td>\n",
              "      <td>0.235223</td>\n",
              "      <td>-78.776888</td>\n",
              "    </tr>\n",
              "    <tr>\n",
              "      <th>4996</th>\n",
              "      <td>86940aa15c2544c783aecbdbb1eb8e4f</td>\n",
              "      <td>0.043769</td>\n",
              "      <td>-78.804615</td>\n",
              "    </tr>\n",
              "    <tr>\n",
              "      <th>4997</th>\n",
              "      <td>65cd12caa1824388a1844ac1dee20c19</td>\n",
              "      <td>0.749478</td>\n",
              "      <td>-78.734176</td>\n",
              "    </tr>\n",
              "    <tr>\n",
              "      <th>4998</th>\n",
              "      <td>0ba6add1a66d4da380e1adebacdd7250</td>\n",
              "      <td>0.332727</td>\n",
              "      <td>-78.872594</td>\n",
              "    </tr>\n",
              "    <tr>\n",
              "      <th>4999</th>\n",
              "      <td>fcb3e3d8a8844846b2d9bf73630ea7f8</td>\n",
              "      <td>0.498297</td>\n",
              "      <td>-78.598319</td>\n",
              "    </tr>\n",
              "  </tbody>\n",
              "</table>\n",
              "<p>5000 rows × 3 columns</p>\n",
              "</div>\n",
              "      <button class=\"colab-df-convert\" onclick=\"convertToInteractive('df-3d13226f-ab84-4565-b78a-d5f6910f8715')\"\n",
              "              title=\"Convert this dataframe to an interactive table.\"\n",
              "              style=\"display:none;\">\n",
              "        \n",
              "  <svg xmlns=\"http://www.w3.org/2000/svg\" height=\"24px\"viewBox=\"0 0 24 24\"\n",
              "       width=\"24px\">\n",
              "    <path d=\"M0 0h24v24H0V0z\" fill=\"none\"/>\n",
              "    <path d=\"M18.56 5.44l.94 2.06.94-2.06 2.06-.94-2.06-.94-.94-2.06-.94 2.06-2.06.94zm-11 1L8.5 8.5l.94-2.06 2.06-.94-2.06-.94L8.5 2.5l-.94 2.06-2.06.94zm10 10l.94 2.06.94-2.06 2.06-.94-2.06-.94-.94-2.06-.94 2.06-2.06.94z\"/><path d=\"M17.41 7.96l-1.37-1.37c-.4-.4-.92-.59-1.43-.59-.52 0-1.04.2-1.43.59L10.3 9.45l-7.72 7.72c-.78.78-.78 2.05 0 2.83L4 21.41c.39.39.9.59 1.41.59.51 0 1.02-.2 1.41-.59l7.78-7.78 2.81-2.81c.8-.78.8-2.07 0-2.86zM5.41 20L4 18.59l7.72-7.72 1.47 1.35L5.41 20z\"/>\n",
              "  </svg>\n",
              "      </button>\n",
              "      \n",
              "  <style>\n",
              "    .colab-df-container {\n",
              "      display:flex;\n",
              "      flex-wrap:wrap;\n",
              "      gap: 12px;\n",
              "    }\n",
              "\n",
              "    .colab-df-convert {\n",
              "      background-color: #E8F0FE;\n",
              "      border: none;\n",
              "      border-radius: 50%;\n",
              "      cursor: pointer;\n",
              "      display: none;\n",
              "      fill: #1967D2;\n",
              "      height: 32px;\n",
              "      padding: 0 0 0 0;\n",
              "      width: 32px;\n",
              "    }\n",
              "\n",
              "    .colab-df-convert:hover {\n",
              "      background-color: #E2EBFA;\n",
              "      box-shadow: 0px 1px 2px rgba(60, 64, 67, 0.3), 0px 1px 3px 1px rgba(60, 64, 67, 0.15);\n",
              "      fill: #174EA6;\n",
              "    }\n",
              "\n",
              "    [theme=dark] .colab-df-convert {\n",
              "      background-color: #3B4455;\n",
              "      fill: #D2E3FC;\n",
              "    }\n",
              "\n",
              "    [theme=dark] .colab-df-convert:hover {\n",
              "      background-color: #434B5C;\n",
              "      box-shadow: 0px 1px 3px 1px rgba(0, 0, 0, 0.15);\n",
              "      filter: drop-shadow(0px 1px 2px rgba(0, 0, 0, 0.3));\n",
              "      fill: #FFFFFF;\n",
              "    }\n",
              "  </style>\n",
              "\n",
              "      <script>\n",
              "        const buttonEl =\n",
              "          document.querySelector('#df-3d13226f-ab84-4565-b78a-d5f6910f8715 button.colab-df-convert');\n",
              "        buttonEl.style.display =\n",
              "          google.colab.kernel.accessAllowed ? 'block' : 'none';\n",
              "\n",
              "        async function convertToInteractive(key) {\n",
              "          const element = document.querySelector('#df-3d13226f-ab84-4565-b78a-d5f6910f8715');\n",
              "          const dataTable =\n",
              "            await google.colab.kernel.invokeFunction('convertToInteractive',\n",
              "                                                     [key], {});\n",
              "          if (!dataTable) return;\n",
              "\n",
              "          const docLinkHtml = 'Like what you see? Visit the ' +\n",
              "            '<a target=\"_blank\" href=https://colab.research.google.com/notebooks/data_table.ipynb>data table notebook</a>'\n",
              "            + ' to learn more about interactive tables.';\n",
              "          element.innerHTML = '';\n",
              "          dataTable['output_type'] = 'display_data';\n",
              "          await google.colab.output.renderOutput(dataTable, element);\n",
              "          const docLink = document.createElement('div');\n",
              "          docLink.innerHTML = docLinkHtml;\n",
              "          element.appendChild(docLink);\n",
              "        }\n",
              "      </script>\n",
              "    </div>\n",
              "  </div>\n",
              "  "
            ]
          },
          "metadata": {},
          "execution_count": 9
        }
      ]
    }
  ]
}