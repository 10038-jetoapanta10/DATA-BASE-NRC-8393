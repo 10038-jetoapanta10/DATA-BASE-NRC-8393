{
  "nbformat": 4,
  "nbformat_minor": 0,
  "metadata": {
    "colab": {
      "provenance": []
    },
    "kernelspec": {
      "name": "python3",
      "display_name": "Python 3"
    },
    "language_info": {
      "name": "python"
    }
  },
  "cells": [
    {
      "cell_type": "code",
      "execution_count": 15,
      "metadata": {
        "colab": {
          "base_uri": "https://localhost:8080/"
        },
        "id": "nIVX8dqKhzaT",
        "outputId": "9d1a095b-5262-4651-c84d-ea0719eecdca"
      },
      "outputs": [
        {
          "output_type": "stream",
          "name": "stdout",
          "text": [
            "Looking in indexes: https://pypi.org/simple, https://us-python.pkg.dev/colab-wheels/public/simple/\n",
            "Requirement already satisfied: faker in /usr/local/lib/python3.7/dist-packages (15.3.2)\n",
            "Requirement already satisfied: python-dateutil>=2.4 in /usr/local/lib/python3.7/dist-packages (from faker) (2.8.2)\n",
            "Requirement already satisfied: typing-extensions>=3.10.0.1 in /usr/local/lib/python3.7/dist-packages (from faker) (4.1.1)\n",
            "Requirement already satisfied: six>=1.5 in /usr/local/lib/python3.7/dist-packages (from python-dateutil>=2.4->faker) (1.15.0)\n"
          ]
        }
      ],
      "source": [
        "!pip install faker\n",
        "import pandas as pd\n",
        "import uuid\n",
        "import random\n",
        "from faker import Faker\n",
        "import datetime\n",
        "\n",
        "num_users=5000"
      ]
    },
    {
      "cell_type": "code",
      "source": [
        "# A list of 4 features\n",
        "features = [\n",
        "    \"IdPolicial\",\n",
        "    \"Genero\",\n",
        "    \"Nombre\",\n",
        "    \"Celular\"\n",
        "]# Creating a DF for these features\n",
        "df = pd.DataFrame(columns=features)"
      ],
      "metadata": {
        "id": "KhkrPqyNw1pw"
      },
      "execution_count": 16,
      "outputs": []
    },
    {
      "cell_type": "markdown",
      "source": [
        "# IdPolicial"
      ],
      "metadata": {
        "id": "sKfyUOasgZ9o"
      }
    },
    {
      "cell_type": "code",
      "source": [
        "df['IdPolicial'] = [uuid.uuid4().hex for i in range(num_users)]"
      ],
      "metadata": {
        "id": "r0JjCot3bvQb"
      },
      "execution_count": 17,
      "outputs": []
    },
    {
      "cell_type": "code",
      "source": [
        "print(df['IdPolicial'].nunique()==num_users)"
      ],
      "metadata": {
        "colab": {
          "base_uri": "https://localhost:8080/"
        },
        "id": "E0cZw2RKb1yz",
        "outputId": "d48936b4-2cb5-4bb2-ace9-9444eb2d292c"
      },
      "execution_count": 18,
      "outputs": [
        {
          "output_type": "stream",
          "name": "stdout",
          "text": [
            "True\n"
          ]
        }
      ]
    },
    {
      "cell_type": "markdown",
      "source": [
        "# Genero"
      ],
      "metadata": {
        "id": "6V9Jj62LgcfX"
      }
    },
    {
      "cell_type": "code",
      "source": [
        "generos = [\"Masculino\", \"Femenino\", \"Otros\"]"
      ],
      "metadata": {
        "id": "BN7vkTNzb3JD"
      },
      "execution_count": 19,
      "outputs": []
    },
    {
      "cell_type": "code",
      "source": [
        "df['Genero'] = random.choices(\n",
        "    generos, \n",
        "    weights=(52,43,5), \n",
        "    k=num_users\n",
        ")"
      ],
      "metadata": {
        "id": "Bh_XgvRqb7Mb"
      },
      "execution_count": 20,
      "outputs": []
    },
    {
      "cell_type": "markdown",
      "source": [
        "# Nombre"
      ],
      "metadata": {
        "id": "RMP536z4ggUf"
      }
    },
    {
      "cell_type": "code",
      "source": [
        "# Instantiating faker\n",
        "faker = Faker()\n",
        "\n",
        "def Nombre_gen(gender):\n",
        "    \"\"\"\n",
        "    Quickly generates a name based on gender\n",
        "    \"\"\"\n",
        "    if gender=='Masculino':\n",
        "        return faker.name_male()\n",
        "    elif gender=='Femenino':\n",
        "        return faker.name_female()\n",
        "    \n",
        "    return faker.name()# Generating names for each user\n",
        "df['Nombre'] = [Nombre_gen(i) for i in df['Genero']]"
      ],
      "metadata": {
        "id": "nhMzSSsXcLHa"
      },
      "execution_count": 21,
      "outputs": []
    },
    {
      "cell_type": "markdown",
      "source": [
        "# Celular"
      ],
      "metadata": {
        "id": "Meb5wBGfgk_Y"
      }
    },
    {
      "cell_type": "code",
      "source": [
        "faker = Faker()\n",
        "def Celular():\n",
        "  return faker.phone_number()\n",
        "\n",
        "df['Celular'] = [Celular() for i in range(num_users)]  "
      ],
      "metadata": {
        "id": "OBeJTQaWdgnB"
      },
      "execution_count": 24,
      "outputs": []
    },
    {
      "cell_type": "code",
      "source": [
        "df.to_csv('dataset_Policia.csv')"
      ],
      "metadata": {
        "id": "boeOOQOadEXa"
      },
      "execution_count": 25,
      "outputs": []
    },
    {
      "cell_type": "code",
      "source": [
        "pd.read_csv('dataset_Policia.csv', index_col=0)"
      ],
      "metadata": {
        "colab": {
          "base_uri": "https://localhost:8080/",
          "height": 424
        },
        "id": "70TYp20adG3i",
        "outputId": "1c2d3c09-8cbf-42dc-91dc-64007239df9f"
      },
      "execution_count": 26,
      "outputs": [
        {
          "output_type": "execute_result",
          "data": {
            "text/plain": [
              "                            IdPolicial     Genero             Nombre  \\\n",
              "0     8f99e51e3e6d46fe9956f4d3f2a97cf7   Femenino          Ann Patel   \n",
              "1     c9b82bde62a9482ca3763fe9160bb062   Femenino        Holly Kline   \n",
              "2     e0049b7b83114f94bf0be291e86d5d7b  Masculino     Zachary Gordon   \n",
              "3     3635604514c547e08727177b599a357d  Masculino       Derek Martin   \n",
              "4     27d6cc5de6154204bda15be494f37603   Femenino        Debra Chase   \n",
              "...                                ...        ...                ...   \n",
              "4995  4400016042e240fd802c47c908b8902b  Masculino        Jeff Rivera   \n",
              "4996  197f110e142e4ebf94e6857b26e37074   Femenino        Peggy Kelly   \n",
              "4997  226c4aec623a4a28b6f9c3341039fa3b  Masculino       Austin Brown   \n",
              "4998  1ff2af929c2e460a917b54c97e94d5db  Masculino       Kenneth Clay   \n",
              "4999  2429b1795f9242119e8d6cb35ef81cbf  Masculino  Parker Livingston   \n",
              "\n",
              "                  Celular  \n",
              "0     (028)256-9240x48969  \n",
              "1            362.052.3754  \n",
              "2        581-833-1750x483  \n",
              "3       279.404.6062x2613  \n",
              "4       643.744.1456x9899  \n",
              "...                   ...  \n",
              "4995     640-185-1648x112  \n",
              "4996         931.659.9027  \n",
              "4997     581-141-0999x948  \n",
              "4998     079.253.5738x340  \n",
              "4999  +1-899-572-6804x914  \n",
              "\n",
              "[5000 rows x 4 columns]"
            ],
            "text/html": [
              "\n",
              "  <div id=\"df-f98694d5-56ad-4526-921c-365e96f19994\">\n",
              "    <div class=\"colab-df-container\">\n",
              "      <div>\n",
              "<style scoped>\n",
              "    .dataframe tbody tr th:only-of-type {\n",
              "        vertical-align: middle;\n",
              "    }\n",
              "\n",
              "    .dataframe tbody tr th {\n",
              "        vertical-align: top;\n",
              "    }\n",
              "\n",
              "    .dataframe thead th {\n",
              "        text-align: right;\n",
              "    }\n",
              "</style>\n",
              "<table border=\"1\" class=\"dataframe\">\n",
              "  <thead>\n",
              "    <tr style=\"text-align: right;\">\n",
              "      <th></th>\n",
              "      <th>IdPolicial</th>\n",
              "      <th>Genero</th>\n",
              "      <th>Nombre</th>\n",
              "      <th>Celular</th>\n",
              "    </tr>\n",
              "  </thead>\n",
              "  <tbody>\n",
              "    <tr>\n",
              "      <th>0</th>\n",
              "      <td>8f99e51e3e6d46fe9956f4d3f2a97cf7</td>\n",
              "      <td>Femenino</td>\n",
              "      <td>Ann Patel</td>\n",
              "      <td>(028)256-9240x48969</td>\n",
              "    </tr>\n",
              "    <tr>\n",
              "      <th>1</th>\n",
              "      <td>c9b82bde62a9482ca3763fe9160bb062</td>\n",
              "      <td>Femenino</td>\n",
              "      <td>Holly Kline</td>\n",
              "      <td>362.052.3754</td>\n",
              "    </tr>\n",
              "    <tr>\n",
              "      <th>2</th>\n",
              "      <td>e0049b7b83114f94bf0be291e86d5d7b</td>\n",
              "      <td>Masculino</td>\n",
              "      <td>Zachary Gordon</td>\n",
              "      <td>581-833-1750x483</td>\n",
              "    </tr>\n",
              "    <tr>\n",
              "      <th>3</th>\n",
              "      <td>3635604514c547e08727177b599a357d</td>\n",
              "      <td>Masculino</td>\n",
              "      <td>Derek Martin</td>\n",
              "      <td>279.404.6062x2613</td>\n",
              "    </tr>\n",
              "    <tr>\n",
              "      <th>4</th>\n",
              "      <td>27d6cc5de6154204bda15be494f37603</td>\n",
              "      <td>Femenino</td>\n",
              "      <td>Debra Chase</td>\n",
              "      <td>643.744.1456x9899</td>\n",
              "    </tr>\n",
              "    <tr>\n",
              "      <th>...</th>\n",
              "      <td>...</td>\n",
              "      <td>...</td>\n",
              "      <td>...</td>\n",
              "      <td>...</td>\n",
              "    </tr>\n",
              "    <tr>\n",
              "      <th>4995</th>\n",
              "      <td>4400016042e240fd802c47c908b8902b</td>\n",
              "      <td>Masculino</td>\n",
              "      <td>Jeff Rivera</td>\n",
              "      <td>640-185-1648x112</td>\n",
              "    </tr>\n",
              "    <tr>\n",
              "      <th>4996</th>\n",
              "      <td>197f110e142e4ebf94e6857b26e37074</td>\n",
              "      <td>Femenino</td>\n",
              "      <td>Peggy Kelly</td>\n",
              "      <td>931.659.9027</td>\n",
              "    </tr>\n",
              "    <tr>\n",
              "      <th>4997</th>\n",
              "      <td>226c4aec623a4a28b6f9c3341039fa3b</td>\n",
              "      <td>Masculino</td>\n",
              "      <td>Austin Brown</td>\n",
              "      <td>581-141-0999x948</td>\n",
              "    </tr>\n",
              "    <tr>\n",
              "      <th>4998</th>\n",
              "      <td>1ff2af929c2e460a917b54c97e94d5db</td>\n",
              "      <td>Masculino</td>\n",
              "      <td>Kenneth Clay</td>\n",
              "      <td>079.253.5738x340</td>\n",
              "    </tr>\n",
              "    <tr>\n",
              "      <th>4999</th>\n",
              "      <td>2429b1795f9242119e8d6cb35ef81cbf</td>\n",
              "      <td>Masculino</td>\n",
              "      <td>Parker Livingston</td>\n",
              "      <td>+1-899-572-6804x914</td>\n",
              "    </tr>\n",
              "  </tbody>\n",
              "</table>\n",
              "<p>5000 rows × 4 columns</p>\n",
              "</div>\n",
              "      <button class=\"colab-df-convert\" onclick=\"convertToInteractive('df-f98694d5-56ad-4526-921c-365e96f19994')\"\n",
              "              title=\"Convert this dataframe to an interactive table.\"\n",
              "              style=\"display:none;\">\n",
              "        \n",
              "  <svg xmlns=\"http://www.w3.org/2000/svg\" height=\"24px\"viewBox=\"0 0 24 24\"\n",
              "       width=\"24px\">\n",
              "    <path d=\"M0 0h24v24H0V0z\" fill=\"none\"/>\n",
              "    <path d=\"M18.56 5.44l.94 2.06.94-2.06 2.06-.94-2.06-.94-.94-2.06-.94 2.06-2.06.94zm-11 1L8.5 8.5l.94-2.06 2.06-.94-2.06-.94L8.5 2.5l-.94 2.06-2.06.94zm10 10l.94 2.06.94-2.06 2.06-.94-2.06-.94-.94-2.06-.94 2.06-2.06.94z\"/><path d=\"M17.41 7.96l-1.37-1.37c-.4-.4-.92-.59-1.43-.59-.52 0-1.04.2-1.43.59L10.3 9.45l-7.72 7.72c-.78.78-.78 2.05 0 2.83L4 21.41c.39.39.9.59 1.41.59.51 0 1.02-.2 1.41-.59l7.78-7.78 2.81-2.81c.8-.78.8-2.07 0-2.86zM5.41 20L4 18.59l7.72-7.72 1.47 1.35L5.41 20z\"/>\n",
              "  </svg>\n",
              "      </button>\n",
              "      \n",
              "  <style>\n",
              "    .colab-df-container {\n",
              "      display:flex;\n",
              "      flex-wrap:wrap;\n",
              "      gap: 12px;\n",
              "    }\n",
              "\n",
              "    .colab-df-convert {\n",
              "      background-color: #E8F0FE;\n",
              "      border: none;\n",
              "      border-radius: 50%;\n",
              "      cursor: pointer;\n",
              "      display: none;\n",
              "      fill: #1967D2;\n",
              "      height: 32px;\n",
              "      padding: 0 0 0 0;\n",
              "      width: 32px;\n",
              "    }\n",
              "\n",
              "    .colab-df-convert:hover {\n",
              "      background-color: #E2EBFA;\n",
              "      box-shadow: 0px 1px 2px rgba(60, 64, 67, 0.3), 0px 1px 3px 1px rgba(60, 64, 67, 0.15);\n",
              "      fill: #174EA6;\n",
              "    }\n",
              "\n",
              "    [theme=dark] .colab-df-convert {\n",
              "      background-color: #3B4455;\n",
              "      fill: #D2E3FC;\n",
              "    }\n",
              "\n",
              "    [theme=dark] .colab-df-convert:hover {\n",
              "      background-color: #434B5C;\n",
              "      box-shadow: 0px 1px 3px 1px rgba(0, 0, 0, 0.15);\n",
              "      filter: drop-shadow(0px 1px 2px rgba(0, 0, 0, 0.3));\n",
              "      fill: #FFFFFF;\n",
              "    }\n",
              "  </style>\n",
              "\n",
              "      <script>\n",
              "        const buttonEl =\n",
              "          document.querySelector('#df-f98694d5-56ad-4526-921c-365e96f19994 button.colab-df-convert');\n",
              "        buttonEl.style.display =\n",
              "          google.colab.kernel.accessAllowed ? 'block' : 'none';\n",
              "\n",
              "        async function convertToInteractive(key) {\n",
              "          const element = document.querySelector('#df-f98694d5-56ad-4526-921c-365e96f19994');\n",
              "          const dataTable =\n",
              "            await google.colab.kernel.invokeFunction('convertToInteractive',\n",
              "                                                     [key], {});\n",
              "          if (!dataTable) return;\n",
              "\n",
              "          const docLinkHtml = 'Like what you see? Visit the ' +\n",
              "            '<a target=\"_blank\" href=https://colab.research.google.com/notebooks/data_table.ipynb>data table notebook</a>'\n",
              "            + ' to learn more about interactive tables.';\n",
              "          element.innerHTML = '';\n",
              "          dataTable['output_type'] = 'display_data';\n",
              "          await google.colab.output.renderOutput(dataTable, element);\n",
              "          const docLink = document.createElement('div');\n",
              "          docLink.innerHTML = docLinkHtml;\n",
              "          element.appendChild(docLink);\n",
              "        }\n",
              "      </script>\n",
              "    </div>\n",
              "  </div>\n",
              "  "
            ]
          },
          "metadata": {},
          "execution_count": 26
        }
      ]
    }
  ]
}