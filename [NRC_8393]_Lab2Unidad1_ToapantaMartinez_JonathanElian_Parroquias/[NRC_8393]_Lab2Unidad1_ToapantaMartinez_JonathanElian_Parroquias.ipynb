{
  "nbformat": 4,
  "nbformat_minor": 0,
  "metadata": {
    "colab": {
      "provenance": []
    },
    "kernelspec": {
      "name": "python3",
      "display_name": "Python 3"
    },
    "language_info": {
      "name": "python"
    }
  },
  "cells": [
    {
      "cell_type": "code",
      "execution_count": 1,
      "metadata": {
        "colab": {
          "base_uri": "https://localhost:8080/"
        },
        "id": "est26mmehxIx",
        "outputId": "7c0d5ba5-1f5b-4a7a-c47b-95f096dda53a"
      },
      "outputs": [
        {
          "output_type": "stream",
          "name": "stdout",
          "text": [
            "Looking in indexes: https://pypi.org/simple, https://us-python.pkg.dev/colab-wheels/public/simple/\n",
            "Collecting faker\n",
            "  Downloading Faker-15.3.2-py3-none-any.whl (1.6 MB)\n",
            "\u001b[K     |████████████████████████████████| 1.6 MB 7.6 MB/s \n",
            "\u001b[?25hRequirement already satisfied: typing-extensions>=3.10.0.1 in /usr/local/lib/python3.7/dist-packages (from faker) (4.1.1)\n",
            "Requirement already satisfied: python-dateutil>=2.4 in /usr/local/lib/python3.7/dist-packages (from faker) (2.8.2)\n",
            "Requirement already satisfied: six>=1.5 in /usr/local/lib/python3.7/dist-packages (from python-dateutil>=2.4->faker) (1.15.0)\n",
            "Installing collected packages: faker\n",
            "Successfully installed faker-15.3.2\n"
          ]
        }
      ],
      "source": [
        "!pip install faker\n",
        "import pandas as pd\n",
        "import uuid\n",
        "import random\n",
        "from faker import Faker\n",
        "import datetime"
      ]
    },
    {
      "cell_type": "code",
      "source": [
        "num_users=5000"
      ],
      "metadata": {
        "id": "IHJqthQRenZR"
      },
      "execution_count": 2,
      "outputs": []
    },
    {
      "cell_type": "code",
      "source": [
        "# A list of 4 features\n",
        "features = [\n",
        "    \"IdPrq\",\n",
        "    \"Nombre\",\n",
        "    \"Status\",\n",
        "    \"Codigo Postal\"\n",
        "]# Creating a DF for these features\n",
        "df = pd.DataFrame(columns=features)"
      ],
      "metadata": {
        "id": "dKc23YfhevQo"
      },
      "execution_count": 3,
      "outputs": []
    },
    {
      "cell_type": "markdown",
      "source": [
        "# IdPrq"
      ],
      "metadata": {
        "id": "u0tVU8Ejgwv_"
      }
    },
    {
      "cell_type": "code",
      "source": [
        "df['IdPrq'] = [uuid.uuid4().hex for i in range(num_users)]"
      ],
      "metadata": {
        "id": "oVm4fO6ge65Z"
      },
      "execution_count": 4,
      "outputs": []
    },
    {
      "cell_type": "code",
      "source": [
        "print(df['IdPrq'].nunique()==num_users)"
      ],
      "metadata": {
        "colab": {
          "base_uri": "https://localhost:8080/"
        },
        "id": "rQQAbvCDe7sB",
        "outputId": "f2f167c4-4b3c-4d87-d09c-ab643bd53f8f"
      },
      "execution_count": 5,
      "outputs": [
        {
          "output_type": "stream",
          "name": "stdout",
          "text": [
            "True\n"
          ]
        }
      ]
    },
    {
      "cell_type": "markdown",
      "source": [
        "# Status"
      ],
      "metadata": {
        "id": "OocPKoL6fhxo"
      }
    },
    {
      "cell_type": "code",
      "source": [
        "Estado = [\"En vigencia\", \"No existe\"]"
      ],
      "metadata": {
        "id": "ywk4AfFre_9J"
      },
      "execution_count": 6,
      "outputs": []
    },
    {
      "cell_type": "code",
      "source": [
        "df['Status'] = random.choices(\n",
        "    Estado, \n",
        "    weights=(73,27), \n",
        "    k=num_users\n",
        ")"
      ],
      "metadata": {
        "id": "fWHvMkWnfg7o"
      },
      "execution_count": 7,
      "outputs": []
    },
    {
      "cell_type": "markdown",
      "source": [
        "# Nombre"
      ],
      "metadata": {
        "id": "8ZAnNLjOfvB5"
      }
    },
    {
      "cell_type": "code",
      "source": [
        "# Instantiating faker\n",
        "faker = Faker()\n",
        "\n",
        "def Nombre_parr():\n",
        "    return faker.last_name_nonbinary()\n",
        "\n",
        "df['Nombre'] = [Nombre_parr() for i in range(num_users)]"
      ],
      "metadata": {
        "id": "zFeHJnYWfwFw"
      },
      "execution_count": 8,
      "outputs": []
    },
    {
      "cell_type": "markdown",
      "source": [
        "# Codigo Postal"
      ],
      "metadata": {
        "id": "kQ1UzsIdg1Em"
      }
    },
    {
      "cell_type": "code",
      "source": [
        "# Instantiating faker\n",
        "faker = Faker()\n",
        "\n",
        "def code():\n",
        "    return faker.postalcode()\n",
        "\n",
        "df['Codigo Postal'] = [code() for i in range(num_users)]"
      ],
      "metadata": {
        "id": "0z2etVoAiZSo"
      },
      "execution_count": 10,
      "outputs": []
    },
    {
      "cell_type": "code",
      "source": [
        "df.to_csv('dataset_Parroquias.csv')"
      ],
      "metadata": {
        "id": "GjGpe3Uwg74g"
      },
      "execution_count": 11,
      "outputs": []
    },
    {
      "cell_type": "code",
      "source": [
        "pd.read_csv('dataset_Parroquias.csv', index_col=0)"
      ],
      "metadata": {
        "colab": {
          "base_uri": "https://localhost:8080/",
          "height": 424
        },
        "id": "cz4A8mXshAlw",
        "outputId": "0f4f2e6a-13e6-402e-fc60-69f4f30ffc41"
      },
      "execution_count": 12,
      "outputs": [
        {
          "output_type": "execute_result",
          "data": {
            "text/plain": [
              "                                 IdPrq    Nombre       Status  Codigo Postal\n",
              "0     59f5ce52fd354ae5b3cb1538e5bdb2cf     Brown    No existe          87977\n",
              "1     0f28c752850849719b467d73a03ad639   Pacheco  En vigencia          85340\n",
              "2     3dc91ab4db614e47a7f4ea9f8995ac76     Jones  En vigencia          53388\n",
              "3     10e0e3e04b644f869763e44c91f153fb   Wallace  En vigencia          24829\n",
              "4     646ec57290944b0ca8219e8500e43d2d     Weber  En vigencia          16254\n",
              "...                                ...       ...          ...            ...\n",
              "4995  990cf252431a4449a7ed1abb074a0de9  Johnston  En vigencia          44915\n",
              "4996  12926c4eaa2144baa380e7e69ef48a00    Barber    No existe          11336\n",
              "4997  66b32aa02baf4bfa911d5f3718301853    Howard  En vigencia          85896\n",
              "4998  e0e02044c0a04720927cd929f6fd6389    Turner  En vigencia          47124\n",
              "4999  41b8c48fbcf447c9997efdbdd389ee5c    Castro  En vigencia          80793\n",
              "\n",
              "[5000 rows x 4 columns]"
            ],
            "text/html": [
              "\n",
              "  <div id=\"df-3c3e0403-2d12-4000-8eeb-e8f29f66ce4d\">\n",
              "    <div class=\"colab-df-container\">\n",
              "      <div>\n",
              "<style scoped>\n",
              "    .dataframe tbody tr th:only-of-type {\n",
              "        vertical-align: middle;\n",
              "    }\n",
              "\n",
              "    .dataframe tbody tr th {\n",
              "        vertical-align: top;\n",
              "    }\n",
              "\n",
              "    .dataframe thead th {\n",
              "        text-align: right;\n",
              "    }\n",
              "</style>\n",
              "<table border=\"1\" class=\"dataframe\">\n",
              "  <thead>\n",
              "    <tr style=\"text-align: right;\">\n",
              "      <th></th>\n",
              "      <th>IdPrq</th>\n",
              "      <th>Nombre</th>\n",
              "      <th>Status</th>\n",
              "      <th>Codigo Postal</th>\n",
              "    </tr>\n",
              "  </thead>\n",
              "  <tbody>\n",
              "    <tr>\n",
              "      <th>0</th>\n",
              "      <td>59f5ce52fd354ae5b3cb1538e5bdb2cf</td>\n",
              "      <td>Brown</td>\n",
              "      <td>No existe</td>\n",
              "      <td>87977</td>\n",
              "    </tr>\n",
              "    <tr>\n",
              "      <th>1</th>\n",
              "      <td>0f28c752850849719b467d73a03ad639</td>\n",
              "      <td>Pacheco</td>\n",
              "      <td>En vigencia</td>\n",
              "      <td>85340</td>\n",
              "    </tr>\n",
              "    <tr>\n",
              "      <th>2</th>\n",
              "      <td>3dc91ab4db614e47a7f4ea9f8995ac76</td>\n",
              "      <td>Jones</td>\n",
              "      <td>En vigencia</td>\n",
              "      <td>53388</td>\n",
              "    </tr>\n",
              "    <tr>\n",
              "      <th>3</th>\n",
              "      <td>10e0e3e04b644f869763e44c91f153fb</td>\n",
              "      <td>Wallace</td>\n",
              "      <td>En vigencia</td>\n",
              "      <td>24829</td>\n",
              "    </tr>\n",
              "    <tr>\n",
              "      <th>4</th>\n",
              "      <td>646ec57290944b0ca8219e8500e43d2d</td>\n",
              "      <td>Weber</td>\n",
              "      <td>En vigencia</td>\n",
              "      <td>16254</td>\n",
              "    </tr>\n",
              "    <tr>\n",
              "      <th>...</th>\n",
              "      <td>...</td>\n",
              "      <td>...</td>\n",
              "      <td>...</td>\n",
              "      <td>...</td>\n",
              "    </tr>\n",
              "    <tr>\n",
              "      <th>4995</th>\n",
              "      <td>990cf252431a4449a7ed1abb074a0de9</td>\n",
              "      <td>Johnston</td>\n",
              "      <td>En vigencia</td>\n",
              "      <td>44915</td>\n",
              "    </tr>\n",
              "    <tr>\n",
              "      <th>4996</th>\n",
              "      <td>12926c4eaa2144baa380e7e69ef48a00</td>\n",
              "      <td>Barber</td>\n",
              "      <td>No existe</td>\n",
              "      <td>11336</td>\n",
              "    </tr>\n",
              "    <tr>\n",
              "      <th>4997</th>\n",
              "      <td>66b32aa02baf4bfa911d5f3718301853</td>\n",
              "      <td>Howard</td>\n",
              "      <td>En vigencia</td>\n",
              "      <td>85896</td>\n",
              "    </tr>\n",
              "    <tr>\n",
              "      <th>4998</th>\n",
              "      <td>e0e02044c0a04720927cd929f6fd6389</td>\n",
              "      <td>Turner</td>\n",
              "      <td>En vigencia</td>\n",
              "      <td>47124</td>\n",
              "    </tr>\n",
              "    <tr>\n",
              "      <th>4999</th>\n",
              "      <td>41b8c48fbcf447c9997efdbdd389ee5c</td>\n",
              "      <td>Castro</td>\n",
              "      <td>En vigencia</td>\n",
              "      <td>80793</td>\n",
              "    </tr>\n",
              "  </tbody>\n",
              "</table>\n",
              "<p>5000 rows × 4 columns</p>\n",
              "</div>\n",
              "      <button class=\"colab-df-convert\" onclick=\"convertToInteractive('df-3c3e0403-2d12-4000-8eeb-e8f29f66ce4d')\"\n",
              "              title=\"Convert this dataframe to an interactive table.\"\n",
              "              style=\"display:none;\">\n",
              "        \n",
              "  <svg xmlns=\"http://www.w3.org/2000/svg\" height=\"24px\"viewBox=\"0 0 24 24\"\n",
              "       width=\"24px\">\n",
              "    <path d=\"M0 0h24v24H0V0z\" fill=\"none\"/>\n",
              "    <path d=\"M18.56 5.44l.94 2.06.94-2.06 2.06-.94-2.06-.94-.94-2.06-.94 2.06-2.06.94zm-11 1L8.5 8.5l.94-2.06 2.06-.94-2.06-.94L8.5 2.5l-.94 2.06-2.06.94zm10 10l.94 2.06.94-2.06 2.06-.94-2.06-.94-.94-2.06-.94 2.06-2.06.94z\"/><path d=\"M17.41 7.96l-1.37-1.37c-.4-.4-.92-.59-1.43-.59-.52 0-1.04.2-1.43.59L10.3 9.45l-7.72 7.72c-.78.78-.78 2.05 0 2.83L4 21.41c.39.39.9.59 1.41.59.51 0 1.02-.2 1.41-.59l7.78-7.78 2.81-2.81c.8-.78.8-2.07 0-2.86zM5.41 20L4 18.59l7.72-7.72 1.47 1.35L5.41 20z\"/>\n",
              "  </svg>\n",
              "      </button>\n",
              "      \n",
              "  <style>\n",
              "    .colab-df-container {\n",
              "      display:flex;\n",
              "      flex-wrap:wrap;\n",
              "      gap: 12px;\n",
              "    }\n",
              "\n",
              "    .colab-df-convert {\n",
              "      background-color: #E8F0FE;\n",
              "      border: none;\n",
              "      border-radius: 50%;\n",
              "      cursor: pointer;\n",
              "      display: none;\n",
              "      fill: #1967D2;\n",
              "      height: 32px;\n",
              "      padding: 0 0 0 0;\n",
              "      width: 32px;\n",
              "    }\n",
              "\n",
              "    .colab-df-convert:hover {\n",
              "      background-color: #E2EBFA;\n",
              "      box-shadow: 0px 1px 2px rgba(60, 64, 67, 0.3), 0px 1px 3px 1px rgba(60, 64, 67, 0.15);\n",
              "      fill: #174EA6;\n",
              "    }\n",
              "\n",
              "    [theme=dark] .colab-df-convert {\n",
              "      background-color: #3B4455;\n",
              "      fill: #D2E3FC;\n",
              "    }\n",
              "\n",
              "    [theme=dark] .colab-df-convert:hover {\n",
              "      background-color: #434B5C;\n",
              "      box-shadow: 0px 1px 3px 1px rgba(0, 0, 0, 0.15);\n",
              "      filter: drop-shadow(0px 1px 2px rgba(0, 0, 0, 0.3));\n",
              "      fill: #FFFFFF;\n",
              "    }\n",
              "  </style>\n",
              "\n",
              "      <script>\n",
              "        const buttonEl =\n",
              "          document.querySelector('#df-3c3e0403-2d12-4000-8eeb-e8f29f66ce4d button.colab-df-convert');\n",
              "        buttonEl.style.display =\n",
              "          google.colab.kernel.accessAllowed ? 'block' : 'none';\n",
              "\n",
              "        async function convertToInteractive(key) {\n",
              "          const element = document.querySelector('#df-3c3e0403-2d12-4000-8eeb-e8f29f66ce4d');\n",
              "          const dataTable =\n",
              "            await google.colab.kernel.invokeFunction('convertToInteractive',\n",
              "                                                     [key], {});\n",
              "          if (!dataTable) return;\n",
              "\n",
              "          const docLinkHtml = 'Like what you see? Visit the ' +\n",
              "            '<a target=\"_blank\" href=https://colab.research.google.com/notebooks/data_table.ipynb>data table notebook</a>'\n",
              "            + ' to learn more about interactive tables.';\n",
              "          element.innerHTML = '';\n",
              "          dataTable['output_type'] = 'display_data';\n",
              "          await google.colab.output.renderOutput(dataTable, element);\n",
              "          const docLink = document.createElement('div');\n",
              "          docLink.innerHTML = docLinkHtml;\n",
              "          element.appendChild(docLink);\n",
              "        }\n",
              "      </script>\n",
              "    </div>\n",
              "  </div>\n",
              "  "
            ]
          },
          "metadata": {},
          "execution_count": 12
        }
      ]
    }
  ]
}