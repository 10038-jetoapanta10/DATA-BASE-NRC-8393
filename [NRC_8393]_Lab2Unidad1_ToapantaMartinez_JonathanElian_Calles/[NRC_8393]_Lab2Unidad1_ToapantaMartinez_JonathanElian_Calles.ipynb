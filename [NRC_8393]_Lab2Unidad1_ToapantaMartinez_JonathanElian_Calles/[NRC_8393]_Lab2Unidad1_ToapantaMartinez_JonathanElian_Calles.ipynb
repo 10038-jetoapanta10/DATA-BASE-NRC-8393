{
  "nbformat": 4,
  "nbformat_minor": 0,
  "metadata": {
    "colab": {
      "provenance": []
    },
    "kernelspec": {
      "name": "python3",
      "display_name": "Python 3"
    },
    "language_info": {
      "name": "python"
    }
  },
  "cells": [
    {
      "cell_type": "code",
      "execution_count": 46,
      "metadata": {
        "id": "ZFsHu-XphuEX",
        "colab": {
          "base_uri": "https://localhost:8080/"
        },
        "outputId": "9a06ffb3-a0cb-48e2-e046-3ff8cf32a836"
      },
      "outputs": [
        {
          "output_type": "stream",
          "name": "stdout",
          "text": [
            "Looking in indexes: https://pypi.org/simple, https://us-python.pkg.dev/colab-wheels/public/simple/\n",
            "Requirement already satisfied: faker in /usr/local/lib/python3.7/dist-packages (15.3.2)\n",
            "Requirement already satisfied: typing-extensions>=3.10.0.1 in /usr/local/lib/python3.7/dist-packages (from faker) (4.1.1)\n",
            "Requirement already satisfied: python-dateutil>=2.4 in /usr/local/lib/python3.7/dist-packages (from faker) (2.8.2)\n",
            "Requirement already satisfied: six>=1.5 in /usr/local/lib/python3.7/dist-packages (from python-dateutil>=2.4->faker) (1.15.0)\n"
          ]
        }
      ],
      "source": [
        "!pip install faker\n",
        "import pandas as pd\n",
        "import uuid\n",
        "import random\n",
        "from faker import Faker\n",
        "import datetime"
      ]
    },
    {
      "cell_type": "code",
      "source": [
        "num_users=5000"
      ],
      "metadata": {
        "id": "LU-3fdKKr1A6"
      },
      "execution_count": 47,
      "outputs": []
    },
    {
      "cell_type": "code",
      "source": [
        "# A list of 3 features\n",
        "features = [\n",
        "    \"IdCalle\",\n",
        "    \"Direccion\",\n",
        "    \"Tipo_de_via\"\n",
        "]# Creating a DF for these features\n",
        "df = pd.DataFrame(columns=features)"
      ],
      "metadata": {
        "id": "7Ka1xmAxo5q8"
      },
      "execution_count": 48,
      "outputs": []
    },
    {
      "cell_type": "markdown",
      "source": [
        "# IdCalle"
      ],
      "metadata": {
        "id": "msK97bNTa0QD"
      }
    },
    {
      "cell_type": "code",
      "source": [
        "df['IdCalle'] = [uuid.uuid4().hex for i in range(num_users)]\n",
        "print(df['IdCalle'].nunique()==num_users)"
      ],
      "metadata": {
        "colab": {
          "base_uri": "https://localhost:8080/"
        },
        "id": "TsgjFN-yqAZL",
        "outputId": "7c0c44cb-2ad1-4d9d-f000-a10bfbe82f1c"
      },
      "execution_count": 49,
      "outputs": [
        {
          "output_type": "stream",
          "name": "stdout",
          "text": [
            "True\n"
          ]
        }
      ]
    },
    {
      "cell_type": "markdown",
      "source": [
        "# Direccion"
      ],
      "metadata": {
        "id": "2BFg6jTKa3iK"
      }
    },
    {
      "cell_type": "code",
      "source": [
        "faker = Faker()\n",
        "def Calle():\n",
        "  return faker.address()\n",
        "\n",
        "df['Direccion'] = [Calle() for i in range(num_users)]  "
      ],
      "metadata": {
        "id": "O4Q16yi5o5xs"
      },
      "execution_count": 50,
      "outputs": []
    },
    {
      "cell_type": "markdown",
      "source": [
        "# Tipo_de_via"
      ],
      "metadata": {
        "id": "vHNTJuH9a6vD"
      }
    },
    {
      "cell_type": "code",
      "source": [
        "estado = [\"Calle principal\", \"Escalinatas\", \"Callejones\"]\n",
        "\n",
        "df['Tipo_de_via'] = random.choices(\n",
        "    estado, \n",
        "    weights=(60,30,10), \n",
        "    k=num_users\n",
        ")"
      ],
      "metadata": {
        "id": "iDGfTjLIsdPj"
      },
      "execution_count": 54,
      "outputs": []
    },
    {
      "cell_type": "code",
      "source": [
        "df.to_csv('dataset_Parroquias.csv')"
      ],
      "metadata": {
        "id": "uQax4oZPuWKy"
      },
      "execution_count": 55,
      "outputs": []
    },
    {
      "cell_type": "code",
      "source": [
        "pd.read_csv('dataset_Parroquias.csv', index_col=0)"
      ],
      "metadata": {
        "colab": {
          "base_uri": "https://localhost:8080/",
          "height": 424
        },
        "id": "erd1WNhGuY_B",
        "outputId": "bd8c4a60-d301-4b13-8a46-137cabde2d16"
      },
      "execution_count": 56,
      "outputs": [
        {
          "output_type": "execute_result",
          "data": {
            "text/plain": [
              "                               IdCalle  \\\n",
              "0     9e606c5cab5f47e0bd448a53968c3434   \n",
              "1     a432f05e5d2e4547a15a70dc3464b9a0   \n",
              "2     89d1063564a34ec987a96549fded566b   \n",
              "3     2b14f44214464c0584f29a89159dd2a9   \n",
              "4     0577b2c215254878a6485fb2c0569963   \n",
              "...                                ...   \n",
              "4995  555f79e794184419835b08a561a307a2   \n",
              "4996  a950ca36d1014206a1ddc43b84102282   \n",
              "4997  7a30b75bca4a4d55a394e7edfec8b25f   \n",
              "4998  ddf5be65a5eb498c8088791499882c30   \n",
              "4999  8337ede60c9d4540a35f04d1e84b6604   \n",
              "\n",
              "                                              Direccion      Tipo_de_via  \n",
              "0                7158 Franco Rue\\nDarrellberg, AK 97819  Calle principal  \n",
              "1             423 Jeffrey Trail\\nEast Whitney, MD 79032  Calle principal  \n",
              "2     11445 Alvarez Lake Suite 869\\nGilbertside, AK ...  Calle principal  \n",
              "3     2585 Bradley Route Apt. 886\\nWest Cynthia, MO ...       Callejones  \n",
              "4                      PSC 5391, Box 9534\\nAPO AE 31639  Calle principal  \n",
              "...                                                 ...              ...  \n",
              "4995                           USNV Gomez\\nFPO AA 64638  Calle principal  \n",
              "4996    847 Susan Causeway Apt. 908\\nWallbury, NE 65137  Calle principal  \n",
              "4997  76600 Amanda Shores Apt. 179\\nWest Heidi, NV 4...  Calle principal  \n",
              "4998    085 Isaac Islands Apt. 161\\nSusantown, AR 78240  Calle principal  \n",
              "4999  78056 Joel Rue Suite 364\\nNorth Jennifer, MP 3...  Calle principal  \n",
              "\n",
              "[5000 rows x 3 columns]"
            ],
            "text/html": [
              "\n",
              "  <div id=\"df-eafdf138-b2f6-4702-a21e-6cf821ebf109\">\n",
              "    <div class=\"colab-df-container\">\n",
              "      <div>\n",
              "<style scoped>\n",
              "    .dataframe tbody tr th:only-of-type {\n",
              "        vertical-align: middle;\n",
              "    }\n",
              "\n",
              "    .dataframe tbody tr th {\n",
              "        vertical-align: top;\n",
              "    }\n",
              "\n",
              "    .dataframe thead th {\n",
              "        text-align: right;\n",
              "    }\n",
              "</style>\n",
              "<table border=\"1\" class=\"dataframe\">\n",
              "  <thead>\n",
              "    <tr style=\"text-align: right;\">\n",
              "      <th></th>\n",
              "      <th>IdCalle</th>\n",
              "      <th>Direccion</th>\n",
              "      <th>Tipo_de_via</th>\n",
              "    </tr>\n",
              "  </thead>\n",
              "  <tbody>\n",
              "    <tr>\n",
              "      <th>0</th>\n",
              "      <td>9e606c5cab5f47e0bd448a53968c3434</td>\n",
              "      <td>7158 Franco Rue\\nDarrellberg, AK 97819</td>\n",
              "      <td>Calle principal</td>\n",
              "    </tr>\n",
              "    <tr>\n",
              "      <th>1</th>\n",
              "      <td>a432f05e5d2e4547a15a70dc3464b9a0</td>\n",
              "      <td>423 Jeffrey Trail\\nEast Whitney, MD 79032</td>\n",
              "      <td>Calle principal</td>\n",
              "    </tr>\n",
              "    <tr>\n",
              "      <th>2</th>\n",
              "      <td>89d1063564a34ec987a96549fded566b</td>\n",
              "      <td>11445 Alvarez Lake Suite 869\\nGilbertside, AK ...</td>\n",
              "      <td>Calle principal</td>\n",
              "    </tr>\n",
              "    <tr>\n",
              "      <th>3</th>\n",
              "      <td>2b14f44214464c0584f29a89159dd2a9</td>\n",
              "      <td>2585 Bradley Route Apt. 886\\nWest Cynthia, MO ...</td>\n",
              "      <td>Callejones</td>\n",
              "    </tr>\n",
              "    <tr>\n",
              "      <th>4</th>\n",
              "      <td>0577b2c215254878a6485fb2c0569963</td>\n",
              "      <td>PSC 5391, Box 9534\\nAPO AE 31639</td>\n",
              "      <td>Calle principal</td>\n",
              "    </tr>\n",
              "    <tr>\n",
              "      <th>...</th>\n",
              "      <td>...</td>\n",
              "      <td>...</td>\n",
              "      <td>...</td>\n",
              "    </tr>\n",
              "    <tr>\n",
              "      <th>4995</th>\n",
              "      <td>555f79e794184419835b08a561a307a2</td>\n",
              "      <td>USNV Gomez\\nFPO AA 64638</td>\n",
              "      <td>Calle principal</td>\n",
              "    </tr>\n",
              "    <tr>\n",
              "      <th>4996</th>\n",
              "      <td>a950ca36d1014206a1ddc43b84102282</td>\n",
              "      <td>847 Susan Causeway Apt. 908\\nWallbury, NE 65137</td>\n",
              "      <td>Calle principal</td>\n",
              "    </tr>\n",
              "    <tr>\n",
              "      <th>4997</th>\n",
              "      <td>7a30b75bca4a4d55a394e7edfec8b25f</td>\n",
              "      <td>76600 Amanda Shores Apt. 179\\nWest Heidi, NV 4...</td>\n",
              "      <td>Calle principal</td>\n",
              "    </tr>\n",
              "    <tr>\n",
              "      <th>4998</th>\n",
              "      <td>ddf5be65a5eb498c8088791499882c30</td>\n",
              "      <td>085 Isaac Islands Apt. 161\\nSusantown, AR 78240</td>\n",
              "      <td>Calle principal</td>\n",
              "    </tr>\n",
              "    <tr>\n",
              "      <th>4999</th>\n",
              "      <td>8337ede60c9d4540a35f04d1e84b6604</td>\n",
              "      <td>78056 Joel Rue Suite 364\\nNorth Jennifer, MP 3...</td>\n",
              "      <td>Calle principal</td>\n",
              "    </tr>\n",
              "  </tbody>\n",
              "</table>\n",
              "<p>5000 rows × 3 columns</p>\n",
              "</div>\n",
              "      <button class=\"colab-df-convert\" onclick=\"convertToInteractive('df-eafdf138-b2f6-4702-a21e-6cf821ebf109')\"\n",
              "              title=\"Convert this dataframe to an interactive table.\"\n",
              "              style=\"display:none;\">\n",
              "        \n",
              "  <svg xmlns=\"http://www.w3.org/2000/svg\" height=\"24px\"viewBox=\"0 0 24 24\"\n",
              "       width=\"24px\">\n",
              "    <path d=\"M0 0h24v24H0V0z\" fill=\"none\"/>\n",
              "    <path d=\"M18.56 5.44l.94 2.06.94-2.06 2.06-.94-2.06-.94-.94-2.06-.94 2.06-2.06.94zm-11 1L8.5 8.5l.94-2.06 2.06-.94-2.06-.94L8.5 2.5l-.94 2.06-2.06.94zm10 10l.94 2.06.94-2.06 2.06-.94-2.06-.94-.94-2.06-.94 2.06-2.06.94z\"/><path d=\"M17.41 7.96l-1.37-1.37c-.4-.4-.92-.59-1.43-.59-.52 0-1.04.2-1.43.59L10.3 9.45l-7.72 7.72c-.78.78-.78 2.05 0 2.83L4 21.41c.39.39.9.59 1.41.59.51 0 1.02-.2 1.41-.59l7.78-7.78 2.81-2.81c.8-.78.8-2.07 0-2.86zM5.41 20L4 18.59l7.72-7.72 1.47 1.35L5.41 20z\"/>\n",
              "  </svg>\n",
              "      </button>\n",
              "      \n",
              "  <style>\n",
              "    .colab-df-container {\n",
              "      display:flex;\n",
              "      flex-wrap:wrap;\n",
              "      gap: 12px;\n",
              "    }\n",
              "\n",
              "    .colab-df-convert {\n",
              "      background-color: #E8F0FE;\n",
              "      border: none;\n",
              "      border-radius: 50%;\n",
              "      cursor: pointer;\n",
              "      display: none;\n",
              "      fill: #1967D2;\n",
              "      height: 32px;\n",
              "      padding: 0 0 0 0;\n",
              "      width: 32px;\n",
              "    }\n",
              "\n",
              "    .colab-df-convert:hover {\n",
              "      background-color: #E2EBFA;\n",
              "      box-shadow: 0px 1px 2px rgba(60, 64, 67, 0.3), 0px 1px 3px 1px rgba(60, 64, 67, 0.15);\n",
              "      fill: #174EA6;\n",
              "    }\n",
              "\n",
              "    [theme=dark] .colab-df-convert {\n",
              "      background-color: #3B4455;\n",
              "      fill: #D2E3FC;\n",
              "    }\n",
              "\n",
              "    [theme=dark] .colab-df-convert:hover {\n",
              "      background-color: #434B5C;\n",
              "      box-shadow: 0px 1px 3px 1px rgba(0, 0, 0, 0.15);\n",
              "      filter: drop-shadow(0px 1px 2px rgba(0, 0, 0, 0.3));\n",
              "      fill: #FFFFFF;\n",
              "    }\n",
              "  </style>\n",
              "\n",
              "      <script>\n",
              "        const buttonEl =\n",
              "          document.querySelector('#df-eafdf138-b2f6-4702-a21e-6cf821ebf109 button.colab-df-convert');\n",
              "        buttonEl.style.display =\n",
              "          google.colab.kernel.accessAllowed ? 'block' : 'none';\n",
              "\n",
              "        async function convertToInteractive(key) {\n",
              "          const element = document.querySelector('#df-eafdf138-b2f6-4702-a21e-6cf821ebf109');\n",
              "          const dataTable =\n",
              "            await google.colab.kernel.invokeFunction('convertToInteractive',\n",
              "                                                     [key], {});\n",
              "          if (!dataTable) return;\n",
              "\n",
              "          const docLinkHtml = 'Like what you see? Visit the ' +\n",
              "            '<a target=\"_blank\" href=https://colab.research.google.com/notebooks/data_table.ipynb>data table notebook</a>'\n",
              "            + ' to learn more about interactive tables.';\n",
              "          element.innerHTML = '';\n",
              "          dataTable['output_type'] = 'display_data';\n",
              "          await google.colab.output.renderOutput(dataTable, element);\n",
              "          const docLink = document.createElement('div');\n",
              "          docLink.innerHTML = docLinkHtml;\n",
              "          element.appendChild(docLink);\n",
              "        }\n",
              "      </script>\n",
              "    </div>\n",
              "  </div>\n",
              "  "
            ]
          },
          "metadata": {},
          "execution_count": 56
        }
      ]
    }
  ]
}